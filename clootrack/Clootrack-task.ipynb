{
 "cells": [
  {
   "cell_type": "code",
   "execution_count": 46,
   "metadata": {},
   "outputs": [],
   "source": [
    "import pandas as pd\n",
    "import matplotlib.pyplot as plt\n",
    "%matplotlib inline\n",
    "import seaborn as sns\n",
    "import numpy as np"
   ]
  },
  {
   "cell_type": "code",
   "execution_count": 47,
   "metadata": {},
   "outputs": [
    {
     "data": {
      "text/html": [
       "<div>\n",
       "<style scoped>\n",
       "    .dataframe tbody tr th:only-of-type {\n",
       "        vertical-align: middle;\n",
       "    }\n",
       "\n",
       "    .dataframe tbody tr th {\n",
       "        vertical-align: top;\n",
       "    }\n",
       "\n",
       "    .dataframe thead th {\n",
       "        text-align: right;\n",
       "    }\n",
       "</style>\n",
       "<table border=\"1\" class=\"dataframe\">\n",
       "  <thead>\n",
       "    <tr style=\"text-align: right;\">\n",
       "      <th></th>\n",
       "      <th>Review</th>\n",
       "      <th>date</th>\n",
       "      <th>Location</th>\n",
       "    </tr>\n",
       "  </thead>\n",
       "  <tbody>\n",
       "    <tr>\n",
       "      <th>0</th>\n",
       "      <td>I was very impressed with the resort.\\n Great ...</td>\n",
       "      <td>2019/08/20</td>\n",
       "      <td>Sebastian</td>\n",
       "    </tr>\n",
       "    <tr>\n",
       "      <th>1</th>\n",
       "      <td>The rooms were nice the outside needs work als...</td>\n",
       "      <td>2019/08/20</td>\n",
       "      <td>Los Angeles</td>\n",
       "    </tr>\n",
       "    <tr>\n",
       "      <th>2</th>\n",
       "      <td>Great location! I have stayed at this hotel on...</td>\n",
       "      <td>2019/08/20</td>\n",
       "      <td>Georgia</td>\n",
       "    </tr>\n",
       "    <tr>\n",
       "      <th>3</th>\n",
       "      <td>The hotel was adequate for my stay. The strips...</td>\n",
       "      <td>2019/08/20</td>\n",
       "      <td>NaN</td>\n",
       "    </tr>\n",
       "    <tr>\n",
       "      <th>4</th>\n",
       "      <td>Great location, room was large and spacious. P...</td>\n",
       "      <td>2019/08/19</td>\n",
       "      <td>Palm Harbor</td>\n",
       "    </tr>\n",
       "  </tbody>\n",
       "</table>\n",
       "</div>"
      ],
      "text/plain": [
       "                                              Review        date     Location\n",
       "0  I was very impressed with the resort.\\n Great ...  2019/08/20    Sebastian\n",
       "1  The rooms were nice the outside needs work als...  2019/08/20  Los Angeles\n",
       "2  Great location! I have stayed at this hotel on...  2019/08/20      Georgia\n",
       "3  The hotel was adequate for my stay. The strips...  2019/08/20          NaN\n",
       "4  Great location, room was large and spacious. P...  2019/08/19  Palm Harbor"
      ]
     },
     "execution_count": 47,
     "metadata": {},
     "output_type": "execute_result"
    }
   ],
   "source": [
    "df=pd.read_csv('test.csv',parse_dates=True)\n",
    "df.head()"
   ]
  },
  {
   "cell_type": "code",
   "execution_count": 48,
   "metadata": {},
   "outputs": [
    {
     "data": {
      "text/plain": [
       "Review        55\n",
       "date           0\n",
       "Location    4737\n",
       "dtype: int64"
      ]
     },
     "execution_count": 48,
     "metadata": {},
     "output_type": "execute_result"
    }
   ],
   "source": [
    "df.isnull().sum()"
   ]
  },
  {
   "cell_type": "code",
   "execution_count": 49,
   "metadata": {
    "scrolled": true
   },
   "outputs": [
    {
     "data": {
      "text/plain": [
       "(6448, 3)"
      ]
     },
     "execution_count": 49,
     "metadata": {},
     "output_type": "execute_result"
    }
   ],
   "source": [
    "df.shape"
   ]
  },
  {
   "cell_type": "code",
   "execution_count": 50,
   "metadata": {},
   "outputs": [
    {
     "data": {
      "text/plain": [
       "0       I was very impressed with the resort.\\n Great ...\n",
       "1       The rooms were nice the outside needs work als...\n",
       "2       Great location! I have stayed at this hotel on...\n",
       "3       The hotel was adequate for my stay. The strips...\n",
       "4       Great location, room was large and spacious. P...\n",
       "                              ...                        \n",
       "6443    ·the staff were all so friendly. frank, the ch...\n",
       "6444           ·the internet barely worked or didn't work\n",
       "6445    ·the location was great.\\n \\n \\n \\n \\n ·the be...\n",
       "6446    ·we were early for check in and the staff was ...\n",
       "6447    ·staff, free coffee, location and activities.\\...\n",
       "Name: Review, Length: 6448, dtype: object"
      ]
     },
     "execution_count": 50,
     "metadata": {},
     "output_type": "execute_result"
    }
   ],
   "source": [
    "df.Review.astype(object)"
   ]
  },
  {
   "cell_type": "code",
   "execution_count": 69,
   "metadata": {},
   "outputs": [],
   "source": [
    "df1=df.replace(np.nan,'',regex=True)"
   ]
  },
  {
   "cell_type": "code",
   "execution_count": 70,
   "metadata": {},
   "outputs": [
    {
     "data": {
      "text/plain": [
       "Review      0\n",
       "date        0\n",
       "Location    0\n",
       "dtype: int64"
      ]
     },
     "execution_count": 70,
     "metadata": {},
     "output_type": "execute_result"
    }
   ],
   "source": [
    "df1.isnull().sum()"
   ]
  },
  {
   "cell_type": "code",
   "execution_count": 71,
   "metadata": {},
   "outputs": [],
   "source": [
    "df1['positive']=True\n",
    "for i in range(6448):\n",
    "    str=df1.loc[i,'Review'].lower()\n",
    "    df1.loc[i,'positive']= ('happy' in str) or ('great' in str) or ('adequate' in str) or ('nice' in str) or ('love' in str) or ('excellent' in str)"
   ]
  },
  {
   "cell_type": "code",
   "execution_count": 72,
   "metadata": {},
   "outputs": [
    {
     "data": {
      "text/html": [
       "<div>\n",
       "<style scoped>\n",
       "    .dataframe tbody tr th:only-of-type {\n",
       "        vertical-align: middle;\n",
       "    }\n",
       "\n",
       "    .dataframe tbody tr th {\n",
       "        vertical-align: top;\n",
       "    }\n",
       "\n",
       "    .dataframe thead th {\n",
       "        text-align: right;\n",
       "    }\n",
       "</style>\n",
       "<table border=\"1\" class=\"dataframe\">\n",
       "  <thead>\n",
       "    <tr style=\"text-align: right;\">\n",
       "      <th></th>\n",
       "      <th>Review</th>\n",
       "      <th>date</th>\n",
       "      <th>Location</th>\n",
       "      <th>positive</th>\n",
       "    </tr>\n",
       "  </thead>\n",
       "  <tbody>\n",
       "    <tr>\n",
       "      <th>0</th>\n",
       "      <td>I was very impressed with the resort.\\n Great ...</td>\n",
       "      <td>2019/08/20</td>\n",
       "      <td>Sebastian</td>\n",
       "      <td>True</td>\n",
       "    </tr>\n",
       "    <tr>\n",
       "      <th>1</th>\n",
       "      <td>The rooms were nice the outside needs work als...</td>\n",
       "      <td>2019/08/20</td>\n",
       "      <td>Los Angeles</td>\n",
       "      <td>True</td>\n",
       "    </tr>\n",
       "    <tr>\n",
       "      <th>2</th>\n",
       "      <td>Great location! I have stayed at this hotel on...</td>\n",
       "      <td>2019/08/20</td>\n",
       "      <td>Georgia</td>\n",
       "      <td>True</td>\n",
       "    </tr>\n",
       "    <tr>\n",
       "      <th>3</th>\n",
       "      <td>The hotel was adequate for my stay. The strips...</td>\n",
       "      <td>2019/08/20</td>\n",
       "      <td></td>\n",
       "      <td>True</td>\n",
       "    </tr>\n",
       "    <tr>\n",
       "      <th>4</th>\n",
       "      <td>Great location, room was large and spacious. P...</td>\n",
       "      <td>2019/08/19</td>\n",
       "      <td>Palm Harbor</td>\n",
       "      <td>True</td>\n",
       "    </tr>\n",
       "  </tbody>\n",
       "</table>\n",
       "</div>"
      ],
      "text/plain": [
       "                                              Review        date     Location  \\\n",
       "0  I was very impressed with the resort.\\n Great ...  2019/08/20    Sebastian   \n",
       "1  The rooms were nice the outside needs work als...  2019/08/20  Los Angeles   \n",
       "2  Great location! I have stayed at this hotel on...  2019/08/20      Georgia   \n",
       "3  The hotel was adequate for my stay. The strips...  2019/08/20                \n",
       "4  Great location, room was large and spacious. P...  2019/08/19  Palm Harbor   \n",
       "\n",
       "   positive  \n",
       "0      True  \n",
       "1      True  \n",
       "2      True  \n",
       "3      True  \n",
       "4      True  "
      ]
     },
     "execution_count": 72,
     "metadata": {},
     "output_type": "execute_result"
    }
   ],
   "source": [
    "df1.head()"
   ]
  },
  {
   "cell_type": "code",
   "execution_count": 67,
   "metadata": {},
   "outputs": [
    {
     "data": {
      "text/plain": [
       "False    3704\n",
       "True     2744\n",
       "Name: positive, dtype: int64"
      ]
     },
     "execution_count": 67,
     "metadata": {},
     "output_type": "execute_result"
    }
   ],
   "source": [
    "df1.positive.value_counts()"
   ]
  },
  {
   "cell_type": "code",
   "execution_count": 68,
   "metadata": {},
   "outputs": [
    {
     "data": {
      "text/plain": [
       "0.42555831265508687"
      ]
     },
     "execution_count": 68,
     "metadata": {},
     "output_type": "execute_result"
    }
   ],
   "source": [
    "2744/6448"
   ]
  },
  {
   "cell_type": "code",
   "execution_count": 74,
   "metadata": {},
   "outputs": [
    {
     "data": {
      "text/plain": [
       "Review        55\n",
       "date           0\n",
       "Location    4737\n",
       "dtype: int64"
      ]
     },
     "execution_count": 74,
     "metadata": {},
     "output_type": "execute_result"
    }
   ],
   "source": [
    "df.isnull().sum()"
   ]
  },
  {
   "cell_type": "code",
   "execution_count": 77,
   "metadata": {},
   "outputs": [],
   "source": [
    " locount=df1.groupby('Location').Location.count()"
   ]
  },
  {
   "cell_type": "code",
   "execution_count": 90,
   "metadata": {},
   "outputs": [
    {
     "data": {
      "text/plain": [
       "Location\n",
       "                            4737\n",
       "United States of America     116\n",
       "New York                      34\n",
       "San Jose                      19\n",
       "California                    19\n",
       "                            ... \n",
       "Ocala                          1\n",
       "Oc                             1\n",
       "Oakland,CA                     1\n",
       "Oakland, ca                    1\n",
       "NRW, Germany                   1\n",
       "Name: Location, Length: 1083, dtype: int64"
      ]
     },
     "execution_count": 90,
     "metadata": {},
     "output_type": "execute_result"
    }
   ],
   "source": [
    "locount.sort_values(ascending=False)"
   ]
  },
  {
   "cell_type": "code",
   "execution_count": 91,
   "metadata": {},
   "outputs": [],
   "source": [
    "df1['negative']=True\n",
    "for i in range(6448):\n",
    "    str=df1.loc[i,'Review'].lower()\n",
    "    df1.loc[i,'negative']= ('unhappy' in str) or ('poor' in str) or ('disappoint' in str) or ('negative' in str) or ('wors' in str) or ('awful' in str)"
   ]
  },
  {
   "cell_type": "code",
   "execution_count": 92,
   "metadata": {},
   "outputs": [
    {
     "data": {
      "text/plain": [
       "False    6032\n",
       "True      416\n",
       "Name: negative, dtype: int64"
      ]
     },
     "execution_count": 92,
     "metadata": {},
     "output_type": "execute_result"
    }
   ],
   "source": [
    "df1.negative.value_counts()"
   ]
  },
  {
   "cell_type": "code",
   "execution_count": 104,
   "metadata": {},
   "outputs": [],
   "source": [
    "df1['language']=''\n",
    "from langdetect import detect\n",
    "\n",
    "    "
   ]
  },
  {
   "cell_type": "code",
   "execution_count": 113,
   "metadata": {},
   "outputs": [
    {
     "name": "stdout",
     "output_type": "stream",
     "text": [
      "This row throws and error: 33\n",
      "This row throws and error: 263\n",
      "This row throws and error: 507\n",
      "This row throws and error: 560\n",
      "This row throws and error: 877\n",
      "This row throws and error: 1034\n",
      "This row throws and error: 1091\n",
      "This row throws and error: 1114\n",
      "This row throws and error: 1150\n",
      "This row throws and error: 1217\n",
      "This row throws and error: 1244\n",
      "This row throws and error: 1300\n",
      "This row throws and error: 1355\n",
      "This row throws and error: 1361\n",
      "This row throws and error: 1385\n",
      "This row throws and error: 1401\n",
      "This row throws and error: 1479\n",
      "This row throws and error: 1561\n",
      "This row throws and error: 1625\n",
      "This row throws and error: 1898\n",
      "This row throws and error: 2119\n",
      "This row throws and error: 2291\n",
      "This row throws and error: 2365\n",
      "This row throws and error: 2366\n",
      "This row throws and error: 2391\n",
      "This row throws and error: 2533\n",
      "This row throws and error: 2610\n",
      "This row throws and error: 2654\n",
      "This row throws and error: 2663\n",
      "This row throws and error: 2670\n",
      "This row throws and error: 2671\n",
      "This row throws and error: 2689\n",
      "This row throws and error: 2742\n",
      "This row throws and error: 2895\n",
      "This row throws and error: 2925\n",
      "This row throws and error: 2957\n",
      "This row throws and error: 3137\n",
      "This row throws and error: 3174\n",
      "This row throws and error: 3283\n",
      "This row throws and error: 3548\n",
      "This row throws and error: 3968\n",
      "This row throws and error: 4012\n",
      "This row throws and error: 4069\n",
      "This row throws and error: 4089\n",
      "This row throws and error: 4235\n",
      "This row throws and error: 4351\n",
      "This row throws and error: 4386\n",
      "This row throws and error: 4399\n",
      "This row throws and error: 4797\n",
      "This row throws and error: 4862\n",
      "This row throws and error: 4878\n",
      "This row throws and error: 5136\n",
      "This row throws and error: 5171\n",
      "This row throws and error: 5254\n",
      "This row throws and error: 5255\n",
      "This row throws and error: 5317\n"
     ]
    }
   ],
   "source": [
    "for i in range(6448):   \n",
    "    str=df1.loc[i,'Review']\n",
    "    try:\n",
    "        lang = detect(str)\n",
    "    except:\n",
    "        lang='null'\n",
    "        print(\"This row throws and error:\", i)\n",
    "    df1.loc[i,'language']=lang"
   ]
  },
  {
   "cell_type": "code",
   "execution_count": 114,
   "metadata": {},
   "outputs": [
    {
     "data": {
      "text/html": [
       "<div>\n",
       "<style scoped>\n",
       "    .dataframe tbody tr th:only-of-type {\n",
       "        vertical-align: middle;\n",
       "    }\n",
       "\n",
       "    .dataframe tbody tr th {\n",
       "        vertical-align: top;\n",
       "    }\n",
       "\n",
       "    .dataframe thead th {\n",
       "        text-align: right;\n",
       "    }\n",
       "</style>\n",
       "<table border=\"1\" class=\"dataframe\">\n",
       "  <thead>\n",
       "    <tr style=\"text-align: right;\">\n",
       "      <th></th>\n",
       "      <th>Review</th>\n",
       "      <th>date</th>\n",
       "      <th>Location</th>\n",
       "      <th>positive</th>\n",
       "      <th>negative</th>\n",
       "      <th>language</th>\n",
       "    </tr>\n",
       "  </thead>\n",
       "  <tbody>\n",
       "    <tr>\n",
       "      <th>0</th>\n",
       "      <td>I was very impressed with the resort.\\n Great ...</td>\n",
       "      <td>2019/08/20</td>\n",
       "      <td>Sebastian</td>\n",
       "      <td>True</td>\n",
       "      <td>False</td>\n",
       "      <td>en</td>\n",
       "    </tr>\n",
       "    <tr>\n",
       "      <th>1</th>\n",
       "      <td>The rooms were nice the outside needs work als...</td>\n",
       "      <td>2019/08/20</td>\n",
       "      <td>Los Angeles</td>\n",
       "      <td>True</td>\n",
       "      <td>False</td>\n",
       "      <td>en</td>\n",
       "    </tr>\n",
       "    <tr>\n",
       "      <th>2</th>\n",
       "      <td>Great location! I have stayed at this hotel on...</td>\n",
       "      <td>2019/08/20</td>\n",
       "      <td>Georgia</td>\n",
       "      <td>True</td>\n",
       "      <td>False</td>\n",
       "      <td>en</td>\n",
       "    </tr>\n",
       "    <tr>\n",
       "      <th>3</th>\n",
       "      <td>The hotel was adequate for my stay. The strips...</td>\n",
       "      <td>2019/08/20</td>\n",
       "      <td></td>\n",
       "      <td>True</td>\n",
       "      <td>True</td>\n",
       "      <td>en</td>\n",
       "    </tr>\n",
       "    <tr>\n",
       "      <th>4</th>\n",
       "      <td>Great location, room was large and spacious. P...</td>\n",
       "      <td>2019/08/19</td>\n",
       "      <td>Palm Harbor</td>\n",
       "      <td>True</td>\n",
       "      <td>False</td>\n",
       "      <td>en</td>\n",
       "    </tr>\n",
       "  </tbody>\n",
       "</table>\n",
       "</div>"
      ],
      "text/plain": [
       "                                              Review        date     Location  \\\n",
       "0  I was very impressed with the resort.\\n Great ...  2019/08/20    Sebastian   \n",
       "1  The rooms were nice the outside needs work als...  2019/08/20  Los Angeles   \n",
       "2  Great location! I have stayed at this hotel on...  2019/08/20      Georgia   \n",
       "3  The hotel was adequate for my stay. The strips...  2019/08/20                \n",
       "4  Great location, room was large and spacious. P...  2019/08/19  Palm Harbor   \n",
       "\n",
       "   positive  negative language  \n",
       "0      True     False       en  \n",
       "1      True     False       en  \n",
       "2      True     False       en  \n",
       "3      True      True       en  \n",
       "4      True     False       en  "
      ]
     },
     "execution_count": 114,
     "metadata": {},
     "output_type": "execute_result"
    }
   ],
   "source": [
    "df1.head()"
   ]
  },
  {
   "cell_type": "code",
   "execution_count": 116,
   "metadata": {},
   "outputs": [
    {
     "data": {
      "text/plain": [
       "en       5864\n",
       "es        167\n",
       "de         88\n",
       "fr         74\n",
       "null       56\n",
       "ja         36\n",
       "it         35\n",
       "pt         31\n",
       "nl         24\n",
       "da         18\n",
       "no         10\n",
       "ko          9\n",
       "sv          8\n",
       "et          6\n",
       "af          5\n",
       "zh-cn       4\n",
       "fi          4\n",
       "ca          2\n",
       "pl          2\n",
       "ru          2\n",
       "he          1\n",
       "zh-tw       1\n",
       "ar          1\n",
       "Name: language, dtype: int64"
      ]
     },
     "execution_count": 116,
     "metadata": {},
     "output_type": "execute_result"
    }
   ],
   "source": [
    "df1.language.value_counts()"
   ]
  },
  {
   "cell_type": "code",
   "execution_count": 120,
   "metadata": {},
   "outputs": [
    {
     "data": {
      "text/plain": [
       "0.011476426799007445"
      ]
     },
     "execution_count": 120,
     "metadata": {},
     "output_type": "execute_result"
    }
   ],
   "source": [
    "74/6448"
   ]
  },
  {
   "cell_type": "code",
   "execution_count": 135,
   "metadata": {},
   "outputs": [],
   "source": [
    "dat=df1.groupby('date').date.count()\n",
    "dat=dat.sort_values(ascending=False)\n"
   ]
  },
  {
   "cell_type": "code",
   "execution_count": 136,
   "metadata": {},
   "outputs": [
    {
     "name": "stdout",
     "output_type": "stream",
     "text": [
      "date\n",
      "Jun 2019      145\n",
      "May 2019      121\n",
      "Jul 2019       92\n",
      "2018/12/01     66\n",
      "Oct 2018       58\n",
      "2019/03/01     53\n",
      "Aug 2018       53\n",
      "2019/02/01     52\n",
      "2018/09/01     49\n",
      "2019/01/01     44\n",
      "Nov 2018       42\n",
      "2018/11/26     41\n",
      "2018/09/04     38\n",
      "2018/12/17     38\n",
      "2019/07/31     37\n",
      "Sep 2018       35\n",
      "Mar 2019       35\n",
      "2019/03/25     34\n",
      "2018/10/01     33\n",
      "2019/04/22     32\n",
      "2019/04/01     32\n",
      "Feb 2019       32\n",
      "2019/01/02     31\n",
      "2019/08/05     31\n",
      "2018/11/01     31\n",
      "2018/11/27     30\n",
      "2018/09/10     29\n",
      "2018/12/30     29\n",
      "2019/03/26     28\n",
      "2019/04/08     28\n",
      "2019/1/4       28\n",
      "2019/04/15     27\n",
      "2018/12/31     27\n",
      "2019/04/16     25\n",
      "2019/04/21     25\n",
      "2019/03/18     25\n",
      "2018/12/18     25\n",
      "2019/04/09     25\n",
      "2018/10/02     25\n",
      "2018/11/13     24\n",
      "2018/10/15     24\n",
      "2019/03/19     24\n",
      "2019/1/15      24\n",
      "2019/03/12     24\n",
      "2019/05/20     24\n",
      "2019/03/05     24\n",
      "2019/08/09     24\n",
      "2018/12/11     23\n",
      "2018/10/23     23\n",
      "2019/1/14      23\n",
      "2019/04/23     23\n",
      "2018/08/13     23\n",
      "2019/08/11     23\n",
      "2018/11/18     23\n",
      "2018/11/19     23\n",
      "2018/12/10     23\n",
      "2018/12/09     22\n",
      "2019/05/06     22\n",
      "2018/09/17     22\n",
      "2019/04/05     22\n",
      "2019/03/31     22\n",
      "2019/07/14     22\n",
      "2019/01/28     22\n",
      "2019/05/14     22\n",
      "2018/11/12     22\n",
      "2018/12/29     22\n",
      "2019/1/7       22\n",
      "2019/2/25      22\n",
      "2018/08/14     22\n",
      "2019/08/12     22\n",
      "2019/08/06     21\n",
      "2019/07/30     21\n",
      "2019/03/11     21\n",
      "2019/07/17     21\n",
      "2018/12/15     21\n",
      "2018/12/12     21\n",
      "2018/08/20     21\n",
      "2019/01/29     20\n",
      "2018/12/20     20\n",
      "2018/10/30     20\n",
      "2019/04/30     20\n",
      "2018/10/29     20\n",
      "2018/10/22     20\n",
      "2018/09/14     20\n",
      "2018/09/11     20\n",
      "2018/08/25     20\n",
      "2018/08/06     20\n",
      "2018/12/26     20\n",
      "2019/04/07     20\n",
      "2019/2/26      20\n",
      "2019/2/5       20\n",
      "2019/08/19     20\n",
      "2019/1/10      20\n",
      "Apr 2019       20\n",
      "2019/1/3       19\n",
      "2018/12/27     19\n",
      "2018/12/28     19\n",
      "2019/04/13     19\n",
      "2019/08/13     19\n",
      "2018/09/24     19\n",
      "2019/04/29     19\n",
      "2019/03/22     19\n",
      "2019/2/21      19\n",
      "2019/04/02     19\n",
      "2019/2/18      18\n",
      "2019/01/27     18\n",
      "2018/10/26     18\n",
      "2019/04/04     18\n",
      "2018/12/23     18\n",
      "2018/11/20     18\n",
      "2019/05/22     18\n",
      "2018/12/13     18\n",
      "2019/04/25     18\n",
      "2019/3/2       17\n",
      "2019/05/09     17\n",
      "2018/12/25     17\n",
      "2019/04/19     17\n",
      "2018/12/02     17\n",
      "2019/1/8       17\n",
      "2019/04/27     17\n",
      "2019/04/28     17\n",
      "2018/11/14     17\n",
      "2018/11/05     17\n",
      "2018/11/06     17\n",
      "2019/04/17     17\n",
      "2019/03/06     17\n",
      "2019/03/27     17\n",
      "2019/03/29     17\n",
      "2019/07/08     17\n",
      "2019/07/07     17\n",
      "2019/03/30     17\n",
      "2019/04/03     17\n",
      "2018/12/14     17\n",
      "2019/07/02     17\n",
      "2018/08/15     17\n",
      "2019/07/15     17\n",
      "2019/04/14     17\n",
      "2018/12/22     17\n",
      "2019/07/16     17\n",
      "2019/2/24      17\n",
      "2018/10/03     16\n",
      "2019/03/28     16\n",
      "2019/05/21     16\n",
      "2019/07/24     16\n",
      "2018/08/24     16\n",
      "2019/05/18     16\n",
      "2019/05/17     16\n",
      "2019/05/15     16\n",
      "2019/03/08     16\n",
      "2019/05/13     16\n",
      "2018/10/09     16\n",
      "2018/10/28     16\n",
      "2019/1/21      16\n",
      "2018/10/11     16\n",
      "2019/07/18     16\n",
      "2018/09/25     16\n",
      "2018/10/16     16\n",
      "2019/05/03     16\n",
      "2019/05/02     16\n",
      "2019/03/20     16\n",
      "2018/11/04     16\n",
      "2019/2/23      16\n",
      "2018/08/21     16\n",
      "2019/04/20     16\n",
      "2019/05/01     15\n",
      "2018/10/24     15\n",
      "2019/04/26     15\n",
      "2019/08/17     15\n",
      "2018/10/21     15\n",
      "2019/03/21     15\n",
      "2018/08/07     15\n",
      "2019/07/13     15\n",
      "2018/09/02     15\n",
      "2018/11/24     15\n",
      "2019/07/06     15\n",
      "2018/11/25     15\n",
      "2018/08/23     15\n",
      "2018/08/26     15\n",
      "2018/12/08     15\n",
      "2018/11/16     15\n",
      "2018/12/06     15\n",
      "2018/12/03     15\n",
      "2019/07/19     14\n",
      "2019/07/12     14\n",
      "2019/07/09     14\n",
      "Jan 2019       14\n",
      "2018/10/27     14\n",
      "2019/04/10     14\n",
      "2019/03/17     14\n",
      "2018/12/16     14\n",
      "2019/2/11      14\n",
      "2018/10/10     14\n",
      "2019/06/24     14\n",
      "2019/05/26     14\n",
      "2019/08/07     14\n",
      "2018/08/27     14\n",
      "2019/08/04     14\n",
      "2019/2/4       14\n",
      "2018/09/03     14\n",
      "2018/09/08     14\n",
      "2019/1/6       14\n",
      "2018/09/23     14\n",
      "2018/11/15     14\n",
      "2019/01/23     14\n",
      "2018/12/04     13\n",
      "2018/11/29     13\n",
      "2019/2/20      13\n",
      "2019/2/22      13\n",
      "2019/2/19      13\n",
      "2018/10/31     13\n",
      "2019/1/5       13\n",
      "2019/1/9       13\n",
      "2019/1/17      13\n",
      "2019/2/12      13\n",
      "2018/12/24     13\n",
      "2018/11/21     13\n",
      "2018/10/12     13\n",
      "2019/03/23     13\n",
      "2019/05/05     13\n",
      "2019/2/8       13\n",
      "2018/09/18     13\n",
      "2018/09/20     13\n",
      "2019/05/28     13\n",
      "2019/05/27     13\n",
      "2018/10/04     13\n",
      "2018/09/05     13\n",
      "2019/07/04     13\n",
      "2019/05/08     13\n",
      "2019/05/07     13\n",
      "2019/08/03     13\n",
      "2019/07/10     13\n",
      "2019/08/01     13\n",
      "2019/08/18     13\n",
      "2018/10/20     13\n",
      "2019/04/12     13\n",
      "2019/2/9       13\n",
      "2019/07/29     13\n",
      "2019/07/20     13\n",
      "2019/07/26     12\n",
      "2018/08/28     12\n",
      "2019/3/3       12\n",
      "2018/08/18     12\n",
      "2018/12/21     12\n",
      "2018/11/23     12\n",
      "2018/12/07     12\n",
      "2019/07/21     12\n",
      "2018/12/19     12\n",
      "2019/2/10      12\n",
      "2018/08/05     12\n",
      "2019/06/27     12\n",
      "2019/06/28     12\n",
      "2019/07/01     12\n",
      "2018/08/08     12\n",
      "2019/1/30      12\n",
      "2019/07/28     12\n",
      "2018/11/02     12\n",
      "2019/05/10     12\n",
      "2019/06/10     12\n",
      "2018/09/30     12\n",
      "2019/03/13     12\n",
      "2019/1/22      12\n",
      "2018/10/14     12\n",
      "2019/04/18     12\n",
      "2018/10/19     12\n",
      "2019/2/7       12\n",
      "2019/03/24     12\n",
      "2018/09/12     12\n",
      "2019/1/13      12\n",
      "2018/11/30     12\n",
      "2018/08/03     11\n",
      "2018/10/13     11\n",
      "2018/09/09     11\n",
      "2018/11/10     11\n",
      "2018/09/26     11\n",
      "2018/09/22     11\n",
      "2018/09/21     11\n",
      "2019/2/2       11\n",
      "2018/09/13     11\n",
      "2019/3/1       11\n",
      "2018/08/12     11\n",
      "2018/08/01     11\n",
      "2019/03/07     11\n",
      "2019/05/12     11\n",
      "2019/03/04     11\n",
      "2019/07/11     11\n",
      "2018/10/07     10\n",
      "2019/01/26     10\n",
      "2019/07/03     10\n",
      "2019/04/11     10\n",
      "2019/03/10     10\n",
      "2019/03/09     10\n",
      "2019/06/21     10\n",
      "2018/11/09     10\n",
      "2019/05/16     10\n",
      "2018/11/11     10\n",
      "2019/1/11      10\n",
      "2018/08/11     10\n",
      "2019/07/22     10\n",
      "2018/08/29     10\n",
      "2018/11/28     10\n",
      "2018/09/06     10\n",
      "2018/09/07     10\n",
      "2019/04/24     10\n",
      "2018/10/08     10\n",
      "2019/07/25     10\n",
      "2019/05/04     10\n",
      "2019/01/03     10\n",
      "2019/07/27     10\n",
      "2019/01/24     10\n",
      "2019/05/19      9\n",
      "2019/08/14      9\n",
      "2018/10/17      9\n",
      "2019/06/30      9\n",
      "2019/04/06      9\n",
      "2019/08/08      9\n",
      "2018/10/18      9\n",
      "2019/1/12       9\n",
      "2019/03/14      9\n",
      "2018/08/31      9\n",
      "2018/11/17      9\n",
      "2019/06/20      9\n",
      "2019/05/25      9\n",
      "2019/06/03      9\n",
      "2019/03/15      9\n",
      "2019/06/25      9\n",
      "2019/05/23      8\n",
      "2018/08/17      8\n",
      "2019/06/23      8\n",
      "2018/12/05      8\n",
      "2019/06/04      8\n",
      "2018/09/29      8\n",
      "2018/09/16      8\n",
      "2018/09/15      8\n",
      "2018/10/05      8\n",
      "2019/06/18      8\n",
      "2018/08/16      8\n",
      "2019/06/13      8\n",
      "2018/11/03      8\n",
      "2019/2/13       8\n",
      "2019/08/10      8\n",
      "2019/07/05      8\n",
      "2019/07/23      8\n",
      "2019/03/16      8\n",
      "2018/11/07      8\n",
      "2019/08/15      8\n",
      "2019/06/17      8\n",
      "2019/2/3        8\n",
      "2018/08/02      7\n",
      "2018/11/08      7\n",
      "2019/2/1        7\n",
      "2019/06/07      7\n",
      "2019/2/16       7\n",
      "2018/08/04      7\n",
      "2019/06/11      7\n",
      "2019/05/11      7\n",
      "2019/06/22      7\n",
      "2019/1/16       7\n",
      "2018/08/19      7\n",
      "2019/06/26      7\n",
      "2019/2/28       7\n",
      "2019/06/29      7\n",
      "2019/2/17       7\n",
      "2018/08/09      6\n",
      "2018/08/10      6\n",
      "2019/06/19      6\n",
      "2018/08/22      6\n",
      "2019/3/4        6\n",
      "2018/08/30      6\n",
      "2019/05/24      6\n",
      "2018/09/19      6\n",
      "2019/1/20       6\n",
      "2019/06/09      6\n",
      "2019/05/29      6\n",
      "2019/1/31       6\n",
      "2019/01/25      6\n",
      "2019/08/16      6\n",
      "2018/10/06      6\n",
      "2019/05/30      6\n",
      "2018/10/25      6\n",
      "2019/1/19       5\n",
      "2018/09/27      5\n",
      "2019/06/01      5\n",
      "2019/06/02      5\n",
      "2019/2/27       5\n",
      "2019/06/12      5\n",
      "2019/2/15       5\n",
      "2019/1/18       5\n",
      "2019/06/15      4\n",
      "2019/01/30      4\n",
      "2018/11/22      4\n",
      "2019/08/20      4\n",
      "2019/08/02      4\n",
      "2019/06/16      4\n",
      "2019/2/6        4\n",
      "2019/06/05      4\n",
      "2019/01/22      4\n",
      "2018/09/28      3\n",
      "2019/2/14       3\n",
      "2019/06/14      3\n",
      "Dec 2018        2\n",
      "2019/05/31      2\n",
      "2019/06/06      2\n",
      "2019/06/08      2\n",
      "Name: date, dtype: int64\n"
     ]
    }
   ],
   "source": [
    "pd.set_option(\"display.max_rows\", None, \"display.max_columns\", None)\n",
    "print(dat)"
   ]
  },
  {
   "cell_type": "markdown",
   "metadata": {},
   "source": [
    "1. There were 2744  clearly positive reviews among the total reviews. These reviews had positive keywords in the text  like 'happy', 'great', 'adequate', etc (only applies to the reviews in English). This means about 42.5% of the total reviews were positive.\n",
    "\n",
    "2. 416 reviews had negative keywords in them, such as 'unhappy', 'poor', 'disappointed', etc.\n",
    "\n",
    "3. 4737 entries had no location mentioned, and 55 entries had the review field blank.\n",
    "\n",
    "4. Apart from null entries for 'Location', it was found that 'United States of America'  was the most popular location, with 116 entries, followed by New York  with 34, and 'San Jose' and 'California' with 19 each.\n",
    "\n",
    "5. The reviews were written in multiple languages. A vast majority of these were written in English (5864/90.9%), followed by Spanish (167/2.5%), German (183/1.3%) and French (74/1.1%). There were also very few cases of Japanese, Korean and Arabic reviews. (This analysis was done using special libraries in python.)\n",
    "\n",
    "6. 2018/12/01 saw the highest single-day traffic, i.e, it had the most number of reviews written in a single day, with 66 reviews. 2019/03/01 was the second-highest, with about 53 reviews.\n",
    "\n",
    "All of the above insights were generated with the help of various libraries in python.\n"
   ]
  }
 ],
 "metadata": {
  "kernelspec": {
   "display_name": "Python 3",
   "language": "python",
   "name": "python3"
  },
  "language_info": {
   "codemirror_mode": {
    "name": "ipython",
    "version": 3
   },
   "file_extension": ".py",
   "mimetype": "text/x-python",
   "name": "python",
   "nbconvert_exporter": "python",
   "pygments_lexer": "ipython3",
   "version": "3.8.5"
  }
 },
 "nbformat": 4,
 "nbformat_minor": 4
}
